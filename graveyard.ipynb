{
 "cells": [
  {
   "cell_type": "code",
   "execution_count": null,
   "metadata": {},
   "outputs": [],
   "source": [
    "import numpy as np\n",
    "\n",
    "def byte_me(input_string):\n",
    "    \"\"\"Converts the input string to an array of\n",
    "    integers.\"\"\"\n",
    "    b = bytearray()\n",
    "    b.extend(input_string.encode())\n",
    "    output = np.zeros(64, dtype=np.uint8)\n",
    "    result = np.array(b)[:64]\n",
    "    x = min(len(result), 64)\n",
    "    output[:x] = result\n",
    "    return output\n",
    "\n",
    "string = 'むairmax 250 shoe great big size blue r*ed orange and I will not stop to type until the stop has stopped'\n",
    "out = byte_me(string)\n",
    "\n",
    "\"\"\"\n",
    "autoencoder.compile(optimizer='sgd', loss='categorical_crossentropy')\n",
    "\n",
    "init = tf.global_variables_initializer()\n",
    "with tf.Session() as sess:\n",
    "    sess.run(init)\n",
    "    result = autoencoder(out).eval()\n",
    "\"\"\""
   ]
  }
 ],
 "metadata": {
  "kernelspec": {
   "display_name": "Python 3",
   "language": "python",
   "name": "python3"
  },
  "language_info": {
   "codemirror_mode": {
    "name": "ipython",
    "version": 3
   },
   "file_extension": ".py",
   "mimetype": "text/x-python",
   "name": "python",
   "nbconvert_exporter": "python",
   "pygments_lexer": "ipython3",
   "version": "3.6.8"
  }
 },
 "nbformat": 4,
 "nbformat_minor": 2
}
