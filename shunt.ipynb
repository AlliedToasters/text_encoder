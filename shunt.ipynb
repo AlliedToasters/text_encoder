{
 "cells": [
  {
   "cell_type": "code",
   "execution_count": 22,
   "metadata": {},
   "outputs": [
    {
     "name": "stdout",
     "output_type": "stream",
     "text": [
      "shard 0\n",
      "shard 100\n",
      "shard 200\n",
      "shard 300\n",
      "shard 400\n",
      "shard 500\n",
      "shard 600\n",
      "shard 700\n",
      "shard 800\n",
      "shard 900\n",
      "shard 1000\n",
      "shard 1100\n",
      "shard 1200\n",
      "shard 1300\n",
      "shard 1400\n",
      "shard 1500\n",
      "shard 1600\n",
      "shard 1700\n",
      "shard 1800\n",
      "shard 1900\n",
      "shard 2000\n",
      "shard 2100\n",
      "shard 2200\n",
      "shard 2300\n",
      "shard 2400\n",
      "shard 2500\n",
      "shard 2600\n",
      "shard 2700\n",
      "shard 2800\n",
      "shard 2900\n",
      "shard 3000\n",
      "shard 3100\n",
      "shard 3200\n",
      "shard 3300\n",
      "shard 3400\n",
      "shard 3500\n",
      "shard 3600\n",
      "shard 3700\n",
      "shard 3800\n",
      "shard 3900\n",
      "shard 4000\n",
      "shard 4100\n",
      "shard 4200\n",
      "shard 4300\n",
      "shard 4400\n"
     ]
    }
   ],
   "source": [
    "result = []\n",
    "\n",
    "for i in range(4414):\n",
    "    if i % 100 == 0:\n",
    "        print('shard', i)\n",
    "    n = str(i)\n",
    "    num = n.zfill(5)\n",
    "    formatted = './pieces/part-{}'.format(num)\n",
    "    with open(formatted, 'r') as f:\n",
    "        text = f.read()\n",
    "    text = [thing for thing in text.split(\"\"\"'\"\"\") if 'Row(unquote(p_searchTerm)' not in thing]\n",
    "    result += text"
   ]
  },
  {
   "cell_type": "code",
   "execution_count": 24,
   "metadata": {},
   "outputs": [],
   "source": [
    "import pandas as pd\n",
    "df = pd.DataFrame(columns=['query'])\n",
    "df['query'] = result\n",
    "\n",
    "df.to_csv('../many_queries.csv', index=False)"
   ]
  },
  {
   "cell_type": "code",
   "execution_count": 25,
   "metadata": {},
   "outputs": [
    {
     "data": {
      "text/plain": [
       "21326637"
      ]
     },
     "execution_count": 25,
     "metadata": {},
     "output_type": "execute_result"
    }
   ],
   "source": [
    "len(df)"
   ]
  },
  {
   "cell_type": "code",
   "execution_count": null,
   "metadata": {},
   "outputs": [],
   "source": []
  }
 ],
 "metadata": {
  "kernelspec": {
   "display_name": "Python 3",
   "language": "python",
   "name": "python3"
  },
  "language_info": {
   "codemirror_mode": {
    "name": "ipython",
    "version": 3
   },
   "file_extension": ".py",
   "mimetype": "text/x-python",
   "name": "python",
   "nbconvert_exporter": "python",
   "pygments_lexer": "ipython3",
   "version": "3.6.8"
  }
 },
 "nbformat": 4,
 "nbformat_minor": 2
}
